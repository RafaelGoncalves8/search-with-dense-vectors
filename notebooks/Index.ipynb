{
  "nbformat": 4,
  "nbformat_minor": 0,
  "metadata": {
    "colab": {
      "name": "Index.ipynb",
      "provenance": []
    },
    "kernelspec": {
      "name": "python3",
      "display_name": "Python 3"
    }
  },
  "cells": [
    {
      "cell_type": "markdown",
      "metadata": {
        "id": "XeQ6AbQpbquS",
        "colab_type": "text"
      },
      "source": [
        "# Projeto final IA376E - 2020\n",
        "# Título: Busca utilizando vetores densos\n",
        "\n",
        "Nomes: Rafael Gonçalves, Thomas Portugal"
      ]
    },
    {
      "cell_type": "markdown",
      "metadata": {
        "id": "Z1EQsynlGoun",
        "colab_type": "text"
      },
      "source": [
        "## Indice de notebooks\n",
        "\n",
        " - [1 - Model](https://colab.research.google.com/github/RafaelGoncalves8/search-with-dense-vectors/blob/master/notebooks/Model.ipynb)\n",
        " - [2 - Dataset](https://colab.research.google.com/github/RafaelGoncalves8/search-with-dense-vectors/blob/master/notebooks/Dataset.ipynb)"
      ]
    }
  ]
}