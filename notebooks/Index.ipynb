{
 "cells": [
  {
   "cell_type": "markdown",
   "metadata": {
    "colab_type": "text",
    "id": "XeQ6AbQpbquS"
   },
   "source": [
    "# Projeto final IA376E - 2020\n",
    "# Título: Busca utilizando vetores densos\n",
    "\n",
    "Nomes: Rafael Gonçalves, Thomas Portugal"
   ]
  },
  {
   "cell_type": "markdown",
   "metadata": {
    "colab_type": "text",
    "id": "Z1EQsynlGoun"
   },
   "source": [
    "## Indice de notebooks\n",
    "\n",
    " - [1 - Dataset](https://colab.research.google.com/github/RafaelGoncalves8/search-with-dense-vectors/blob/master/notebooks/Dataset.ipynb)\n",
    " - [2 - Model](https://colab.research.google.com/github/RafaelGoncalves8/search-with-dense-vectors/blob/master/notebooks/Model.ipynb)\n",
    " - [3 - Validation](https://colab.research.google.com/github/RafaelGoncalves8/search-with-dense-vectors/blob/master/notebooks/Validation.ipynb)\n",
    " - [4 - Train](https://colab.research.google.com/github/RafaelGoncalves8/search-with-dense-vectors/blob/master/notebooks/Train.ipynb)"
   ]
  }
 ],
 "metadata": {
  "colab": {
   "name": "Index.ipynb",
   "provenance": []
  },
  "kernelspec": {
   "display_name": "Python 3",
   "language": "python",
   "name": "python3"
  },
  "language_info": {
   "codemirror_mode": {
    "name": "ipython",
    "version": 3
   },
   "file_extension": ".py",
   "mimetype": "text/x-python",
   "name": "python",
   "nbconvert_exporter": "python",
   "pygments_lexer": "ipython3",
   "version": "3.8.3"
  }
 },
 "nbformat": 4,
 "nbformat_minor": 1
}
