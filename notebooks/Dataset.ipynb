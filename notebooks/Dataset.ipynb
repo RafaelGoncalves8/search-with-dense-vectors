{
  "nbformat": 4,
  "nbformat_minor": 0,
  "metadata": {
    "colab": {
      "name": "MsMarco.ipynb",
      "provenance": [],
      "collapsed_sections": [],
      "toc_visible": true
    },
    "kernelspec": {
      "name": "python3",
      "display_name": "Python 3"
    }
  },
  "cells": [
    {
      "cell_type": "markdown",
      "metadata": {
        "id": "XeQ6AbQpbquS",
        "colab_type": "text"
      },
      "source": [
        "# Projeto final IA376E - 2020\n",
        "# Título: Busca utilizando vetores densos\n",
        "\n",
        "Nomes: Rafael Gonçalves, Thomas Portugal\n",
        "\n",
        "## Semana 1: Entendendo a base de dados MSMARCO e a biblioteca de busca pyserini"
      ]
    },
    {
      "cell_type": "markdown",
      "metadata": {
        "id": "ybD0qUbf4MCo",
        "colab_type": "text"
      },
      "source": [
        "## Configuração geral"
      ]
    },
    {
      "cell_type": "markdown",
      "metadata": {
        "id": "yHOn7eFEpOGZ",
        "colab_type": "text"
      },
      "source": [
        "Processador disponível no ambiente"
      ]
    },
    {
      "cell_type": "code",
      "metadata": {
        "id": "-q81shLTpL8N",
        "colab_type": "code",
        "outputId": "a0d85802-39f7-4cd5-ec8c-7dd9f228be11",
        "colab": {
          "base_uri": "https://localhost:8080/",
          "height": 33
        }
      },
      "source": [
        "import os\n",
        "\n",
        "os.cpu_count()"
      ],
      "execution_count": 0,
      "outputs": [
        {
          "output_type": "execute_result",
          "data": {
            "text/plain": [
              "2"
            ]
          },
          "metadata": {
            "tags": []
          },
          "execution_count": 1
        }
      ]
    },
    {
      "cell_type": "markdown",
      "metadata": {
        "id": "kz7sWVG6ft8a",
        "colab_type": "text"
      },
      "source": [
        "Montar o drive para download de dados"
      ]
    },
    {
      "cell_type": "code",
      "metadata": {
        "id": "f4CSiVFt4O8i",
        "colab_type": "code",
        "outputId": "1744f746-0e83-4824-f65e-510a050e2943",
        "colab": {
          "base_uri": "https://localhost:8080/",
          "height": 33
        }
      },
      "source": [
        "# Mount drive\n",
        "from google.colab import drive\n",
        "\n",
        "drive.mount('/content/drive')"
      ],
      "execution_count": 0,
      "outputs": [
        {
          "output_type": "stream",
          "text": [
            "Drive already mounted at /content/drive; to attempt to forcibly remount, call drive.mount(\"/content/drive\", force_remount=True).\n"
          ],
          "name": "stdout"
        }
      ]
    },
    {
      "cell_type": "markdown",
      "metadata": {
        "id": "iGzoyT6v1336",
        "colab_type": "text"
      },
      "source": [
        "## Pyserini"
      ]
    },
    {
      "cell_type": "markdown",
      "metadata": {
        "id": "b3ou_ztGdXSx",
        "colab_type": "text"
      },
      "source": [
        "Pyserini - wrapper do sistema de busca anserini: https://github.com/castorini/pyserini/\n",
        "\n",
        "Referências:\n",
        " - https://colab.research.google.com/github/castorini/anserini-notebooks/blob/master/pyserini_robust04_demo.ipynb\n",
        " - https://colab.research.google.com/github/castorini/anserini-notebooks/blob/master/pyserini_msmarco_passage_demo.ipynb"
      ]
    },
    {
      "cell_type": "markdown",
      "metadata": {
        "id": "W6aUk2zgcCG9",
        "colab_type": "text"
      },
      "source": [
        "### Instalação"
      ]
    },
    {
      "cell_type": "code",
      "metadata": {
        "id": "pFd4mz6ERdVn",
        "colab_type": "code",
        "colab": {}
      },
      "source": [
        "%%capture\n",
        "!pip install pyserini\n",
        "\n",
        "import os\n",
        "os.environ[\"JAVA_HOME\"] = \"/usr/lib/jvm/java-11-openjdk-amd64\""
      ],
      "execution_count": 0,
      "outputs": []
    },
    {
      "cell_type": "markdown",
      "metadata": {
        "id": "Y5K72Lb4cMM2",
        "colab_type": "text"
      },
      "source": [
        "### SimpleSearch"
      ]
    },
    {
      "cell_type": "code",
      "metadata": {
        "id": "zc_S1_grbUq5",
        "colab_type": "code",
        "colab": {}
      },
      "source": [
        "DATA_DIR=r'/content/drive/My\\ Drive/pyserini'\n",
        "data_dir='/content/drive/My Drive/pyserini'"
      ],
      "execution_count": 0,
      "outputs": []
    },
    {
      "cell_type": "code",
      "metadata": {
        "id": "81XHxoj-byy5",
        "colab_type": "code",
        "colab": {}
      },
      "source": [
        "%%capture\n",
        "!mkdir {DATA_DIR}\n",
        "!wget -nc https://git.uwaterloo.ca/jimmylin/anserini-indexes/raw/master/index-robust04-20191213.tar.gz -P {DATA_DIR}\n",
        "!tar xvkfz {DATA_DIR}/index-robust04-20191213.tar.gz -C {DATA_DIR}"
      ],
      "execution_count": 0,
      "outputs": []
    },
    {
      "cell_type": "code",
      "metadata": {
        "id": "mM4UUk3a2Dg1",
        "colab_type": "code",
        "outputId": "fada1112-921f-47a2-e828-5eb2e27de1bd",
        "colab": {
          "base_uri": "https://localhost:8080/",
          "height": 183
        }
      },
      "source": [
        "from pyserini.search import pysearch\n",
        "\n",
        "searcher = pysearch.SimpleSearcher(data_dir + '/index-robust04-20191213/')\n",
        "hits = searcher.search('hubble space telescope')\n",
        "\n",
        "# Print the first 10 hits:\n",
        "for i in range(0, 10):\n",
        "    print(f'{i+1:2} {hits[i].docid:15} {hits[i].score:.5f}')"
      ],
      "execution_count": 0,
      "outputs": [
        {
          "output_type": "stream",
          "text": [
            " 1 LA071090-0047   16.85690\n",
            " 2 FT934-5418      16.75630\n",
            " 3 FT921-7107      16.68290\n",
            " 4 LA052890-0021   16.37390\n",
            " 5 LA070990-0052   16.36460\n",
            " 6 LA062990-0180   16.19260\n",
            " 7 LA070890-0154   16.15610\n",
            " 8 FT934-2516      16.08950\n",
            " 9 LA041090-0148   16.08810\n",
            "10 FT944-128       16.01920\n"
          ],
          "name": "stdout"
        }
      ]
    },
    {
      "cell_type": "markdown",
      "metadata": {
        "id": "oTsd8oSrcdMH",
        "colab_type": "text"
      },
      "source": [
        "Exemplo de documento buscado:"
      ]
    },
    {
      "cell_type": "code",
      "metadata": {
        "id": "5MvX8G75ccs1",
        "colab_type": "code",
        "outputId": "48eb7c70-e9ed-4e44-86a7-a2a0fdb2e385",
        "colab": {
          "base_uri": "https://localhost:8080/",
          "height": 202
        }
      },
      "source": [
        "from IPython.core.display import display, HTML\n",
        "display(HTML('<div style=\"padding-bottom:10px\">' + hits[0].raw[:1000] + '</div>'))"
      ],
      "execution_count": 0,
      "outputs": [
        {
          "output_type": "display_data",
          "data": {
            "text/html": [
              "<div style=\"padding-bottom:10px\"><DATE>\n",
              "<P>\n",
              "July 10, 1990, Tuesday, Home Edition\n",
              "</P>\n",
              "</DATE>\n",
              "<HEADLINE>\n",
              "<P>\n",
              "SIMPLE TEST WOULD HAVE FOUND FLAW IN HUBBLE TELESCOPE;\n",
              "</P>\n",
              "<P>\n",
              "SPACE: NASA CHIEF SAYS THE RELATIVELY INEXPENSIVE CHECK WAS NEVER PERFORMED. IT\n",
              "MAY HAVE BEEN A VICTIM OF COST OVERRUNS.\n",
              "</P>\n",
              "</HEADLINE>\n",
              "<TEXT>\n",
              "<P>\n",
              "A routine, relatively inexpensive test would have caught the error that has\n",
              "crippled the $1.5-billion Hubble Space Telescope, but the test was never\n",
              "conducted, the head of the nation's space agency said Monday.\n",
              "</P>\n",
              "<P>\n",
              "If the test had been carried out, the telescope would not have been launched\n",
              "into orbit 381 miles above the Earth with an optical system that is no better\n",
              "than ground-based telescopes. \"But, in fact, we never did such a test,\" Rear\n",
              "Adm. Richard H. Truly, administrator of the National Aeronautics and Space\n",
              "Administration, said in a telephone interview.\n",
              "</P>\n",
              "<P>\n",
              "The test, involving the reflection of light off the telescope's mirror, would\n",
              "have been far simpler than an ambitious effort to </div>"
            ],
            "text/plain": [
              "<IPython.core.display.HTML object>"
            ]
          },
          "metadata": {
            "tags": []
          }
        }
      ]
    },
    {
      "cell_type": "markdown",
      "metadata": {
        "id": "fmMOGOnLcyXO",
        "colab_type": "text"
      },
      "source": [
        "Configurar opções de busca:"
      ]
    },
    {
      "cell_type": "code",
      "metadata": {
        "id": "1fkT2yZV2yi7",
        "colab_type": "code",
        "outputId": "f5208a5f-3a36-4c42-e162-ee90ebbf7d4e",
        "colab": {
          "base_uri": "https://localhost:8080/",
          "height": 183
        }
      },
      "source": [
        "searcher.set_bm25_similarity(0.9, 0.4)\n",
        "searcher.set_rm3_reranker(10, 10, 0.5)\n",
        "\n",
        "hits2 = searcher.search('hubble space telescope')\n",
        "\n",
        "# Print the first 10 hits:\n",
        "for i in range(0, 10):\n",
        "    print(f'{i+1:2} {hits2[i].docid:15} {hits2[i].score:.5f}')"
      ],
      "execution_count": 0,
      "outputs": [
        {
          "output_type": "stream",
          "text": [
            " 1 FT934-5418      5.24090\n",
            " 2 LA071090-0047   5.19570\n",
            " 3 LA070990-0052   4.94740\n",
            " 4 LA052890-0021   4.93000\n",
            " 5 FT921-7107      4.91800\n",
            " 6 LA062990-0180   4.89580\n",
            " 7 FT934-2516      4.80640\n",
            " 8 LA070890-0154   4.78170\n",
            " 9 LA041490-0064   4.74820\n",
            "10 LA040190-0178   4.73550\n"
          ],
          "name": "stdout"
        }
      ]
    },
    {
      "cell_type": "markdown",
      "metadata": {
        "id": "kbuQ0-TUR3Eo",
        "colab_type": "text"
      },
      "source": [
        "## MSMarco\n",
        "\n",
        "Disponível em: https://microsoft.github.io/msmarco/"
      ]
    },
    {
      "cell_type": "code",
      "metadata": {
        "id": "rK-j6LAhUNrj",
        "colab_type": "code",
        "colab": {}
      },
      "source": [
        "DATA_DIR='drive/My\\ Drive/msmarco'"
      ],
      "execution_count": 0,
      "outputs": []
    },
    {
      "cell_type": "code",
      "metadata": {
        "id": "NYxNlW-MR47H",
        "colab_type": "code",
        "colab": {}
      },
      "source": [
        "%%capture\n",
        "!mkdir {DATA_DIR}\n",
        "!wget -nc https://msmarco.blob.core.windows.net/msmarcoranking/collectionandqueries.tar.gz -P {DATA_DIR}\n",
        "!tar -xzvkf {DATA_DIR}/collectionandqueries.tar.gz -C {DATA_DIR}"
      ],
      "execution_count": 0,
      "outputs": []
    },
    {
      "cell_type": "code",
      "metadata": {
        "id": "mUv6XPfUgbGD",
        "colab_type": "code",
        "colab": {}
      },
      "source": [
        "import collections"
      ],
      "execution_count": 0,
      "outputs": []
    },
    {
      "cell_type": "code",
      "metadata": {
        "id": "ySAVO-tOtD3M",
        "colab_type": "code",
        "colab": {}
      },
      "source": [
        "# From https://github.com/nyu-dl/dl4ir-doc2query/blob/master/convert_msmarco_to_opennmt.py\n",
        "def load_qrels(path):\n",
        "  \"\"\"Loads qrels into a dict of key: query id, value: set of relevant doc ids.\"\"\"\n",
        "  qrels = collections.defaultdict(set)\n",
        "  with open(path) as f:\n",
        "    for i, line in enumerate(f):\n",
        "      query_id, _, doc_id, relevance = line.rstrip().split('\\t')\n",
        "      if int(relevance) >= 1:\n",
        "        qrels[query_id].add(doc_id)\n",
        "      if i % 100000 == 0:\n",
        "        print('Loading qrels {}'.format(i))\n",
        "  return qrels\n",
        "\n",
        "\n",
        "def load_queries(path):\n",
        "  \"\"\"Loads queries into a dict of key: query id, value: query text.\"\"\"\n",
        "  queries = {}\n",
        "  with open(path) as f:\n",
        "    for i, line in enumerate(f):\n",
        "      query_id, query = line.rstrip().split('\\t')\n",
        "      queries[query_id] = query\n",
        "      if i % 100000 == 0:\n",
        "        print('Loading queries {}'.format(i))\n",
        "  return queries\n",
        "\n",
        "\n",
        "def load_collection(path):\n",
        "  \"\"\"Loads tsv collection into a dict of key: doc id, value: doc text.\"\"\"\n",
        "  collection = {}\n",
        "  with open(path) as f:\n",
        "    for i, line in enumerate(f):\n",
        "      doc_id, doc_text = line.rstrip().split('\\t')\n",
        "      collection[doc_id] = doc_text.replace('\\n', ' ')\n",
        "      if i % 1000000 == 0:\n",
        "        print('Loading collection, doc {}'.format(i))\n",
        "\n",
        "  return collection"
      ],
      "execution_count": 0,
      "outputs": []
    },
    {
      "cell_type": "code",
      "metadata": {
        "id": "Ku23QSkBVm1c",
        "colab_type": "code",
        "colab": {}
      },
      "source": [
        "data_dir='drive/My Drive/msmarco'\n",
        "docs_path = data_dir + '/collection.tsv'\n",
        "qrels_path = data_dir + '/qrels.train.tsv'\n",
        "queries_path = data_dir + '/queries.train.tsv'"
      ],
      "execution_count": 0,
      "outputs": []
    },
    {
      "cell_type": "code",
      "metadata": {
        "id": "Hux2DhTG7Y78",
        "colab_type": "code",
        "outputId": "c62e30de-7723-479e-f675-e7edb252d32e",
        "colab": {
          "base_uri": "https://localhost:8080/",
          "height": 416
        }
      },
      "source": [
        "col = load_collection(docs_path)\n",
        "queries = load_queries(queries_path)\n",
        "qrel = load_qrels(qrels_path)"
      ],
      "execution_count": 0,
      "outputs": [
        {
          "output_type": "stream",
          "text": [
            "Loading collection, doc 0\n",
            "Loading collection, doc 1000000\n",
            "Loading collection, doc 2000000\n",
            "Loading collection, doc 3000000\n",
            "Loading collection, doc 4000000\n",
            "Loading collection, doc 5000000\n",
            "Loading collection, doc 6000000\n",
            "Loading collection, doc 7000000\n",
            "Loading collection, doc 8000000\n",
            "Loading queries 0\n",
            "Loading queries 100000\n",
            "Loading queries 200000\n",
            "Loading queries 300000\n",
            "Loading queries 400000\n",
            "Loading queries 500000\n",
            "Loading queries 600000\n",
            "Loading queries 700000\n",
            "Loading queries 800000\n",
            "Loading qrels 0\n",
            "Loading qrels 100000\n",
            "Loading qrels 200000\n",
            "Loading qrels 300000\n",
            "Loading qrels 400000\n",
            "Loading qrels 500000\n"
          ],
          "name": "stdout"
        }
      ]
    },
    {
      "cell_type": "markdown",
      "metadata": {
        "id": "sy0wRvuO8C76",
        "colab_type": "text"
      },
      "source": [
        "## Pyserini + MSMARCO\n",
        "\n",
        "Referencias:\n",
        " - https://github.com/castorini/anserini/blob/master/docs/experiments-msmarco-doc.md\n",
        " - https://github.com/castorini/anserini/blob/master/docs/experiments-msmarco-passage.md\n",
        " - https://github.com/castorini/anserini/blob/master/docs/experiments-doc2query.md\n",
        " - https://colab.research.google.com/github/castorini/anserini-notebooks/blob/master/pyserini_msmarco_passage_demo.ipynb#scrollTo=yFZlcqEX0t1f"
      ]
    },
    {
      "cell_type": "code",
      "metadata": {
        "id": "3xIgJ9U7-U0j",
        "colab_type": "code",
        "colab": {}
      },
      "source": [
        "%%capture\n",
        "!mkdir {DATA_DIR}/pyserini\n",
        "!wget -nc https://git.uwaterloo.ca/jimmylin/anserini-indexes/raw/master/index-msmarco-passage-20191117-0ed488.tar.gz -P {DATA_DIR}/pyserini\n",
        "!tar xvfkz {DATA_DIR}/pyserini/index-msmarco-passage-20191117-0ed488.tar.gz -C {DATA_DIR}/pyserini"
      ],
      "execution_count": 0,
      "outputs": []
    },
    {
      "cell_type": "code",
      "metadata": {
        "id": "MgXAM_kz-T_n",
        "colab_type": "code",
        "outputId": "8d678c0e-b41d-4fcf-e45e-5e612cbec107",
        "colab": {
          "base_uri": "https://localhost:8080/",
          "height": 33
        }
      },
      "source": [
        "!du -h {DATA_DIR}/pyserini/index-msmarco-passage-20191117-0ed488"
      ],
      "execution_count": 0,
      "outputs": [
        {
          "output_type": "stream",
          "text": [
            "2.5G\tdrive/My Drive/msmarco/pyserini/index-msmarco-passage-20191117-0ed488\n"
          ],
          "name": "stdout"
        }
      ]
    },
    {
      "cell_type": "code",
      "metadata": {
        "id": "czhSLKNr8i8-",
        "colab_type": "code",
        "outputId": "c30244cb-8d46-4ddc-e230-8f633447741a",
        "colab": {
          "base_uri": "https://localhost:8080/",
          "height": 33
        }
      },
      "source": [
        "from pyserini.search import pysearch\n",
        "\n",
        "topics = pysearch.get_topics('msmarco_passage_dev_subset')\n",
        "print(f'{len(topics)} queries total')"
      ],
      "execution_count": 0,
      "outputs": [
        {
          "output_type": "stream",
          "text": [
            "6980 queries total\n"
          ],
          "name": "stdout"
        }
      ]
    },
    {
      "cell_type": "markdown",
      "metadata": {
        "id": "l9gRMPR_s_ok",
        "colab_type": "text"
      },
      "source": [
        "Exemplo usando query do pyserini"
      ]
    },
    {
      "cell_type": "code",
      "metadata": {
        "id": "il10bUp6-dCg",
        "colab_type": "code",
        "outputId": "559ba781-44bd-4e04-c1b0-dd0bcd9d3de6",
        "colab": {
          "base_uri": "https://localhost:8080/",
          "height": 33
        }
      },
      "source": [
        "topics[1102400]['title']"
      ],
      "execution_count": 0,
      "outputs": [
        {
          "output_type": "execute_result",
          "data": {
            "text/plain": [
              "'why do bears hibernate'"
            ]
          },
          "metadata": {
            "tags": []
          },
          "execution_count": 18
        }
      ]
    },
    {
      "cell_type": "code",
      "metadata": {
        "id": "0qmV2hXy-dnD",
        "colab_type": "code",
        "outputId": "eaae999f-6a65-4a06-8998-470010733b7c",
        "colab": {
          "base_uri": "https://localhost:8080/",
          "height": 183
        }
      },
      "source": [
        "from pyserini.search import pysearch\n",
        "\n",
        "searcher = pysearch.SimpleSearcher(data_dir + '/pyserini/index-msmarco-passage-20191117-0ed488')\n",
        "hits = searcher.search(topics[1102400]['title'])\n",
        "\n",
        "# Prints the first 10 hits\n",
        "for i in range(0, 10):\n",
        "    print(f'{i+1:2} {hits[i].score:.5f} {hits[i].raw[:70]}...')"
      ],
      "execution_count": 0,
      "outputs": [
        {
          "output_type": "stream",
          "text": [
            " 1 17.33580 Why do Bears hibernate? March 31, 2010, Joan, Leave a comment. Why do ...\n",
            " 2 13.23090 Why do bears hibernate? Watch this to discover how much effort is spen...\n",
            " 3 13.13570 Technically, as the other anwerer said, bears do not hibernate, but th...\n",
            " 4 13.01460 It is a common misconception that bears hibernate during the winter. W...\n",
            " 5 13.00390 To prepare for hibernation, grizzlies must prepare a den, and consume ...\n",
            " 6 12.68940 Some zoo bears are fed year round, and do not hibernate. Since they do...\n",
            " 7 12.55450 Bears in zoos will not hibernate if food is available, though they wil...\n",
            " 8 12.51710 All kinds of bears technically don't hibernate. They enter into a phas...\n",
            " 9 12.43500 Date: 12-11-2012. It is a common misconception that bears hibernate du...\n",
            "10 12.37460 While bears tend to slow down during the winter, they are not true hib...\n"
          ],
          "name": "stdout"
        }
      ]
    },
    {
      "cell_type": "markdown",
      "metadata": {
        "id": "AIkk19PvkCqb",
        "colab_type": "text"
      },
      "source": [
        "Examplo usando query do arquivo tsv baixado"
      ]
    },
    {
      "cell_type": "code",
      "metadata": {
        "id": "yvWAM1-ZkAcp",
        "colab_type": "code",
        "colab": {}
      },
      "source": [
        "doc_id = '410621'"
      ],
      "execution_count": 0,
      "outputs": []
    },
    {
      "cell_type": "code",
      "metadata": {
        "id": "eqUvzjzUYXDY",
        "colab_type": "code",
        "outputId": "928aaa1c-dc77-454e-d62b-88aeb3f1e63e",
        "colab": {
          "base_uri": "https://localhost:8080/",
          "height": 33
        }
      },
      "source": [
        "queries[doc_id]"
      ],
      "execution_count": 0,
      "outputs": [
        {
          "output_type": "execute_result",
          "data": {
            "text/plain": [
              "'is frida kahlo mexican'"
            ]
          },
          "metadata": {
            "tags": []
          },
          "execution_count": 21
        }
      ]
    },
    {
      "cell_type": "code",
      "metadata": {
        "id": "4tenVFQBYP_h",
        "colab_type": "code",
        "colab": {}
      },
      "source": [
        "hits = searcher.search(queries[doc_id], 1000)"
      ],
      "execution_count": 0,
      "outputs": []
    },
    {
      "cell_type": "code",
      "metadata": {
        "id": "RQMLfr6ZYlTA",
        "colab_type": "code",
        "outputId": "0db6a395-a041-46d1-e71b-3ee4b7df51bd",
        "colab": {
          "base_uri": "https://localhost:8080/",
          "height": 183
        }
      },
      "source": [
        "# Prints the first 10 hits\n",
        "for i in range(0, 10):\n",
        "    print(f'{i+1:2} {hits[i].docid} {hits[i].score:.5f} {hits[i].raw[:70]}...')"
      ],
      "execution_count": 0,
      "outputs": [
        {
          "output_type": "stream",
          "text": [
            " 1 5144374 22.64810 Frida Kahlo, Frida Kahlo print, Frida Kahlo Poster, Frida Kahlo Wall A...\n",
            " 2 5144368 22.49320 Frida Kahlo, Self Portrait, Frida Kahlo print, Frida Kahlo quote, Frid...\n",
            " 3 1155174 20.99080 Frida Kahlo Birthday: Beloved Mexican Artist Turns 106 (PHOTOS) In hon...\n",
            " 4 3932807 20.90960 1 Frida Kahlo Quotes Frida Kahlo was a Mexican painter famous for her ...\n",
            " 5 1122572 19.82170 Frida Kahlo. This name uses Spanish naming customs: the first or pater...\n",
            " 6 2429097 19.74680 Frida Kahlo and her paintings. Mexican artist Frida Kahlo is remembere...\n",
            " 7 3232442 19.71270 About Frida Kahlo. Frida Kahlo de Rivera, born Magdalena Carmen Frieda...\n",
            " 8 3232448 19.38600 Frida Kahlo, in full Frida Kahlo de Rivera, original name Magdalena Ca...\n",
            " 9 2429101 19.28310 Frida Kahlo's House â¢â¢â¢ La Casa Azul was Frida Kahlo's home. Â© ...\n",
            "10 3192157 18.94840 Museo Frida Kahlo. Renowned Mexican artist Frida Kahlo was born in, an...\n"
          ],
          "name": "stdout"
        }
      ]
    },
    {
      "cell_type": "code",
      "metadata": {
        "id": "aB-aW0jZiEaV",
        "colab_type": "code",
        "outputId": "e5911a06-b306-4642-9784-292eaa634cdc",
        "colab": {
          "base_uri": "https://localhost:8080/",
          "height": 50
        }
      },
      "source": [
        "# Print documents in qrel\n",
        "for docid in qrel[doc_id]:\n",
        "    print(f'{docid} {col[str(docid)][:70]}...')"
      ],
      "execution_count": 0,
      "outputs": [
        {
          "output_type": "stream",
          "text": [
            "6461 Throughout most of her life, however, Frida remained close to her fath...\n",
            "6458 With slim sable brushes, Frida Kahlo painstakingly rendered her bold u...\n"
          ],
          "name": "stdout"
        }
      ]
    },
    {
      "cell_type": "code",
      "metadata": {
        "id": "JxT-Z3_5-jQO",
        "colab_type": "code",
        "outputId": "653dc1fd-bc5a-4804-e319-8987b8f61529",
        "colab": {
          "base_uri": "https://localhost:8080/",
          "height": 43
        }
      },
      "source": [
        "from IPython.core.display import display, HTML\n",
        "display(HTML('<div style=\"font-family: Times New Roman; padding-bottom:10px\">' + hits[0].raw + '</div>'))"
      ],
      "execution_count": 0,
      "outputs": [
        {
          "output_type": "display_data",
          "data": {
            "text/html": [
              "<div style=\"font-family: Times New Roman; padding-bottom:10px\">Frida Kahlo, Frida Kahlo print, Frida Kahlo Poster, Frida Kahlo Wall Art, Frida Kahlo Painting, Mexican Painter, Frida Print,Frida Kahlo Art VintagePrintStore 5 out of 5 stars</div>"
            ],
            "text/plain": [
              "<IPython.core.display.HTML object>"
            ]
          },
          "metadata": {
            "tags": []
          }
        }
      ]
    },
    {
      "cell_type": "markdown",
      "metadata": {
        "id": "CKq7ci4M31Tj",
        "colab_type": "text"
      },
      "source": [
        "## Doc2query"
      ]
    },
    {
      "cell_type": "markdown",
      "metadata": {
        "id": "4O-jhInEryGY",
        "colab_type": "text"
      },
      "source": [
        "Técnica utilizada para criar queries dos documentos\n",
        "\n",
        "Referências:\n",
        "- https://github.com/nyu-dl/dl4ir-doc2query\n",
        "- https://github.com/castorini/docTTTTTquery"
      ]
    },
    {
      "cell_type": "code",
      "metadata": {
        "id": "Cm0C0RKYZZtg",
        "colab_type": "code",
        "colab": {}
      },
      "source": [
        "%%capture\n",
        "!wget -nc https://www.dropbox.com/s/709q495d9hohcmh/pred-test_topk10.tar.gz -P {DATA_DIR}/msmarco-passage\n",
        "!tar -xzvkf {DATA_DIR}/msmarco-passage/pred-test_topk10.tar.gz -C {DATA_DIR}/msmarco-passage"
      ],
      "execution_count": 0,
      "outputs": []
    },
    {
      "cell_type": "code",
      "metadata": {
        "id": "1YGsK7FtUP0n",
        "colab_type": "code",
        "outputId": "03c1c589-9385-42b3-fdc4-c814a33e1151",
        "colab": {
          "base_uri": "https://localhost:8080/",
          "height": 203
        }
      },
      "source": [
        "!head {DATA_DIR}/collection.tsv"
      ],
      "execution_count": 0,
      "outputs": [
        {
          "output_type": "stream",
          "text": [
            "0\tThe presence of communication amid scientific minds was equally important to the success of the Manhattan Project as scientific intellect was. The only cloud hanging over the impressive achievement of the atomic researchers and engineers is what their success truly meant; hundreds of thousands of innocent lives obliterated.\n",
            "1\tThe Manhattan Project and its atomic bomb helped bring an end to World War II. Its legacy of peaceful uses of atomic energy continues to have an impact on history and science.\n",
            "2\tEssay on The Manhattan Project - The Manhattan Project The Manhattan Project was to see if making an atomic bomb possible. The success of this project would forever change the world forever making it known that something this powerful can be manmade.\n",
            "3\tThe Manhattan Project was the name for a project conducted during World War II, to develop the first atomic bomb. It refers specifically to the period of the project from 194 â¦ 2-1946 under the control of the U.S. Army Corps of Engineers, under the administration of General Leslie R. Groves.\n",
            "4\tversions of each volume as well as complementary websites. The first websiteâThe Manhattan Project: An Interactive Historyâis available on the Office of History and Heritage Resources website, http://www.cfo. doe.gov/me70/history. The Office of History and Heritage Resources and the National Nuclear Security\n",
            "5\tThe Manhattan Project. This once classified photograph features the first atomic bomb â a weapon that atomic scientists had nicknamed Gadget.. The nuclear age began on July 16, 1945, when it was detonated in the New Mexico desert.\n",
            "6\tNor will it attempt to substitute for the extraordinarily rich literature on the atomic bombs and the end of World War II. This collection does not attempt to document the origins and development of the Manhattan Project.\n",
            "7\tManhattan Project. The Manhattan Project was a research and development undertaking during World War II that produced the first nuclear weapons. It was led by the United States with the support of the United Kingdom and Canada. From 1942 to 1946, the project was under the direction of Major General Leslie Groves of the U.S. Army Corps of Engineers. Nuclear physicist Robert Oppenheimer was the director of the Los Alamos Laboratory that designed the actual bombs. The Army component of the project was designated the\n",
            "8\tIn June 1942, the United States Army Corps of Engineersbegan the Manhattan Project- The secret name for the 2 atomic bombs.\n",
            "9\tOne of the main reasons Hanford was selected as a site for the Manhattan Project's B Reactor was its proximity to the Columbia River, the largest river flowing into the Pacific Ocean from the North American coast.\n"
          ],
          "name": "stdout"
        }
      ]
    },
    {
      "cell_type": "code",
      "metadata": {
        "id": "B-FIiQWnmubm",
        "colab_type": "code",
        "outputId": "d9ef353e-d48f-4f3d-f396-21f54d6f3b73",
        "colab": {
          "base_uri": "https://localhost:8080/",
          "height": 203
        }
      },
      "source": [
        "!head {DATA_DIR}/msmarco-passage/pred-test_topk10.txt"
      ],
      "execution_count": 0,
      "outputs": [
        {
          "output_type": "stream",
          "text": [
            "why was the research of manhattan used why was manhattan an important factor what was a important achievement of manhattan why was manhattan so important what did the manhattan project do what was the most important modern strategy for north paul impressive what is the most important modern strategy in the atomic what is the most important research of manhattan why was sigma important and why was it important why was manhattan a good language\n",
            "is manhattan an example which atomic bomb and led the most of the united states that have the future when is the new sigma project railroad used why was the manhattan project energy what was manhattan legacy which two countries did the manhattan project have who created the atomic bomb powers which of the following was considered a result of the atomic bomb on which was created by the atomic why was manhattan communist created what was the manhattan project created\n",
            "what is considered a project of manhattan what is a project review what is a project view how does the manhattan project save the Essay what is manhattan essay why is the manhattan project important what is manhattan project what did the manhattan project change about what was manhattan project made by what is the manhattan project\n",
            "what was manhattan project known for what did the manhattan project accomplish what is manhattan project what is the manhattan project famous for how was manhattan project which is the significance of manhattan mission who developed the manhattan project what was manhattan project what was manhattan project what was the manhattan project like\n",
            "which statement about the Resources when was the great migration in manhattan who created the northwest of manhattan what was the first issue that led the central Resources what was the first underground based on what is an Resources review what are the three Resources formed by the Resources when was the allied structure created who created the term manifest capacity what are the three main three branches of the central process\n",
            "how old is the second nuclear explosion was there an actual atomic bomb was manhattan an atomic bomb when did nuclear forces happen in the united states what was the atomic bomb based on when was the atomic bomb discovered when was the first nuclear bomb dropped when was the first nuclear bomb found in the land what was the first nuclear bomb when was the first atomic bomb on america\n",
            "why is bronze considered a good word what is atomic literature what is atomic speech substitute does literature collection save applied to culture who makes the literature portrait of the literature what does extraordinarily mean is there an easy thing for bronze what is the word for the creation of the literature does the literature sign language what is atomic literature\n",
            "why did manhattan build the great barrier what did manhattan do what was manhattan project what was the manhattan project what year was manhattan where was the manhattan project made who helped happen to the manhattan project when did manhattan project start why was manhattan a nuclear bomb created which two countries created the manhattan mission\n",
            "which president led the army uniform who was the army bombs. when did the transcontinental bomb take place how was the train army created when did the transcontinental Corps join the army who was Corps Corps army what was the name of the army uniform what was the purpose of the army army army corps what was the name of manhattan army what was the army Corps\n",
            "why was north central built in asia what was the largest river in the western boundary in the Pacific who led to the coast. river where is Reactor located what river in the east states is east North of why was American created what year were the rivers created at the western central asia what was the main river built by in central park what river was the Hanford river who created the western coast of the river north of the coast of the rivers river\n"
          ],
          "name": "stdout"
        }
      ]
    },
    {
      "cell_type": "code",
      "metadata": {
        "id": "mJp-JzEeTfLX",
        "colab_type": "code",
        "colab": {}
      },
      "source": [
        "def load_doc2query(path):\n",
        "  \"\"\"Loads tsv collection into a dict of key: doc id, value: doc text.\"\"\"\n",
        "  collection = {}\n",
        "  with open(path) as f:\n",
        "    for i, line in enumerate(f):\n",
        "      doc_text = line.rstrip()\n",
        "      collection[str(i)] = doc_text.replace('\\n', ' ')\n",
        "      if i % 1000000 == 0:\n",
        "        print('Loading doc2query, doc {}'.format(i))\n",
        "\n",
        "  return collection"
      ],
      "execution_count": 0,
      "outputs": []
    },
    {
      "cell_type": "code",
      "metadata": {
        "id": "8oB_Qc_FTvlg",
        "colab_type": "code",
        "outputId": "54f93531-84fe-4196-f289-17b6063da6d0",
        "colab": {
          "base_uri": "https://localhost:8080/",
          "height": 166
        }
      },
      "source": [
        "doc_queries = load_doc2query(data_dir + '/msmarco-passage/pred-test_topk10.txt')"
      ],
      "execution_count": 0,
      "outputs": [
        {
          "output_type": "stream",
          "text": [
            "Loading doc2query, doc 0\n",
            "Loading doc2query, doc 1000000\n",
            "Loading doc2query, doc 2000000\n",
            "Loading doc2query, doc 3000000\n",
            "Loading doc2query, doc 4000000\n",
            "Loading doc2query, doc 5000000\n",
            "Loading doc2query, doc 6000000\n",
            "Loading doc2query, doc 7000000\n",
            "Loading doc2query, doc 8000000\n"
          ],
          "name": "stdout"
        }
      ]
    },
    {
      "cell_type": "code",
      "metadata": {
        "id": "DHt8FWxuVJBa",
        "colab_type": "code",
        "outputId": "e5a6b1cb-5d1e-4a7b-c965-4194d162117b",
        "colab": {
          "base_uri": "https://localhost:8080/",
          "height": 70
        }
      },
      "source": [
        "doc_id = '7423243'\n",
        "doc_queries[doc_id][:150], col[doc_id][:150]"
      ],
      "execution_count": 0,
      "outputs": [
        {
          "output_type": "execute_result",
          "data": {
            "text/plain": [
              "('what day is credit union what is a credit others hours how many credit hours in a credit hour what is the full time credit union what is Â§35.201, cre',\n",
              " 'Section 35.201 of the Commissionâ\\x80\\x99s Regulations, 49 Pa. Code Â§35.201, defines a credit as a period of 15 hours of instruction. The Commission uses b')"
            ]
          },
          "metadata": {
            "tags": []
          },
          "execution_count": 31
        }
      ]
    },
    {
      "cell_type": "markdown",
      "metadata": {
        "id": "8gzRsg87xdDa",
        "colab_type": "text"
      },
      "source": [
        "## Evaluation metrics"
      ]
    },
    {
      "cell_type": "code",
      "metadata": {
        "id": "pg02CYjRg_VB",
        "colab_type": "code",
        "outputId": "4660a009-2117-4709-99c3-dec4ef65fae9",
        "colab": {
          "base_uri": "https://localhost:8080/",
          "height": 53
        }
      },
      "source": [
        "ans = {}\n",
        "i = 0\n",
        "j = 0\n",
        "while i < 1_000:\n",
        "    j += 1\n",
        "    try:\n",
        "        v = queries[str(j)]\n",
        "        hits = searcher.search(v, 100)\n",
        "        ans[str(j)] = [e.docid for e in hits]\n",
        "        i += 1\n",
        "        print('.', end='')\n",
        "    except:\n",
        "        pass"
      ],
      "execution_count": 0,
      "outputs": [
        {
          "output_type": "stream",
          "text": [
            "........................................................................................................................................................................................................................................................................................................................................................................................................................................................................................................................................................................................................................................................................................................................................................................................................................................................................................................................................................................................................................................"
          ],
          "name": "stdout"
        }
      ]
    },
    {
      "cell_type": "markdown",
      "metadata": {
        "id": "rKarpR8yxhkK",
        "colab_type": "text"
      },
      "source": [
        "### recall@k"
      ]
    },
    {
      "cell_type": "code",
      "metadata": {
        "id": "YskywmyExg2m",
        "colab_type": "code",
        "colab": {}
      },
      "source": [
        "def recall_at_k(qrel, ans, k=100):\n",
        "    n = 0\n",
        "    total = 0\n",
        "    for qid, v in zip(ans.keys(), ans.values()):\n",
        "        if len(qrel[qid]):\n",
        "            acc = sum([1 for e in v[:k] if e in qrel[qid]])\n",
        "            recall = acc/len(qrel[qid])\n",
        "            total += recall\n",
        "            n += 1\n",
        "    return total/n"
      ],
      "execution_count": 0,
      "outputs": []
    },
    {
      "cell_type": "code",
      "metadata": {
        "id": "n0VpiCqyevV2",
        "colab_type": "code",
        "outputId": "8895dd71-dfef-42cf-d6e2-8873705f4929",
        "colab": {
          "base_uri": "https://localhost:8080/",
          "height": 33
        }
      },
      "source": [
        "recall_at_k(qrel, ans)"
      ],
      "execution_count": 0,
      "outputs": [
        {
          "output_type": "execute_result",
          "data": {
            "text/plain": [
              "0.6052380952380952"
            ]
          },
          "metadata": {
            "tags": []
          },
          "execution_count": 34
        }
      ]
    },
    {
      "cell_type": "markdown",
      "metadata": {
        "id": "YwqIcxCMxkdK",
        "colab_type": "text"
      },
      "source": [
        "###MRR@10"
      ]
    },
    {
      "cell_type": "code",
      "metadata": {
        "id": "LYx52Wyoxm4s",
        "colab_type": "code",
        "colab": {}
      },
      "source": [
        "%%capture\n",
        "!wget -nc https://raw.githubusercontent.com/spacemanidol/MSMARCO/master/Ranking/Baselines/msmarco_eval.py"
      ],
      "execution_count": 0,
      "outputs": []
    },
    {
      "cell_type": "code",
      "metadata": {
        "id": "4eaJrNfN27De",
        "colab_type": "code",
        "colab": {}
      },
      "source": [
        "import msmarco_eval"
      ],
      "execution_count": 0,
      "outputs": []
    },
    {
      "cell_type": "code",
      "metadata": {
        "id": "rT-UTf4ejQqF",
        "colab_type": "code",
        "outputId": "4e1fb289-e368-4e8a-bcb2-a5670eaf199e",
        "colab": {
          "base_uri": "https://localhost:8080/",
          "height": 116
        }
      },
      "source": [
        "qrels = load_qrels(qrels_path)"
      ],
      "execution_count": 0,
      "outputs": [
        {
          "output_type": "stream",
          "text": [
            "Loading qrels 0\n",
            "Loading qrels 100000\n",
            "Loading qrels 200000\n",
            "Loading qrels 300000\n",
            "Loading qrels 400000\n",
            "Loading qrels 500000\n"
          ],
          "name": "stdout"
        }
      ]
    },
    {
      "cell_type": "code",
      "metadata": {
        "id": "xuJDS1BO2_cc",
        "colab_type": "code",
        "outputId": "f2e7a1b5-9296-44b4-b9f3-64968ab59036",
        "colab": {
          "base_uri": "https://localhost:8080/",
          "height": 33
        }
      },
      "source": [
        "msmarco_eval.compute_metrics(qrels, ans)"
      ],
      "execution_count": 0,
      "outputs": [
        {
          "output_type": "execute_result",
          "data": {
            "text/plain": [
              "{'MRR @10': 0.00011735936798419533, 'QueriesRanked': 1000}"
            ]
          },
          "metadata": {
            "tags": []
          },
          "execution_count": 38
        }
      ]
    },
    {
      "cell_type": "markdown",
      "metadata": {
        "id": "oTgGe63k38Gb",
        "colab_type": "text"
      },
      "source": [
        "# Carregar dados para treino de transformers"
      ]
    },
    {
      "cell_type": "markdown",
      "metadata": {
        "id": "69iokfhA4CJR",
        "colab_type": "text"
      },
      "source": [
        "Dividimos os dados em dois grupos referentes a dois momentos: treino e inferência. \n",
        "No momento de treino precisamos executar uma tarefa que, implicitamente, construa representações (embeddings) para as perguntas e os trechos de modo que perguntas estejam \"mais próximas\" de trechos relevantes. \n",
        "\n",
        "Para isso, os dados que serão utilizados são: \n",
        "\n",
        "\n",
        "*    **qidpidtriples.train.full.tar.gz**: O dataset de treino de msmarco na seguinte estrutura: (qid,pid relevante, pid irrelevante)\n",
        "*   **predicted_queries_topk_sampling.zip**: Queries geradas pelo doc2query para cada documento da collections. \n",
        "\n",
        "Cada amostra seria retirada do **qidpidtriples.train.full.tar.gz** e teria uma label especificando se é ou não é relevante.\n",
        "\n",
        "Nesse momento eu fiquei um pouco na dúvida de como treinar esse modelo usando duas torres simultaneamente. Mas acredito que isso se explique aqui: https://arxiv.org/pdf/2004.04906.pdf\n",
        "\n",
        "\n",
        "Já na fase de inferência, utilizaríamos apenas o encoder do modelo treinado. Geraríamos os embeddings referentes as queries artificiais dos documentos (doc2query). Para cada query nova no conjunto de treinamento, gerar o embedding e fazer o produto interno com cada documento. Teríamos scores relacionados a cada documento e  podemos fazer o rankeamento. Após fazer o rankeamento, avaliamos com o mrr10 os resultados. Nesse momento podemos restringir os documentos que são rankeados, aos resultados da pesquisa utilizando o b25 do pyserini. Os trechos relevantes estão sempre no top 1000 (ou não existem dependendendo da pergunta)."
      ]
    },
    {
      "cell_type": "code",
      "metadata": {
        "id": "n89_oaL-hmoE",
        "colab_type": "code",
        "colab": {}
      },
      "source": [
        "TRIPLES = DATA_DIR + '/triples'"
      ],
      "execution_count": 0,
      "outputs": []
    },
    {
      "cell_type": "code",
      "metadata": {
        "id": "BGRaPbq84MnE",
        "colab_type": "code",
        "outputId": "89b56278-7b5c-496a-c08d-fb643078b15a",
        "colab": {
          "base_uri": "https://localhost:8080/",
          "height": 250
        }
      },
      "source": [
        "#%%capture\n",
        "# Conjunto de treino do msmarco com (qid, positive pid, negative pid)\n",
        "!mkdir {TRIPLES}\n",
        "!wget -nc https://msmarco.blob.core.windows.net/msmarcoranking/qidpidtriples.train.full.tsv.gz -P {TRIPLES}\n",
        "!gunzip {TRIPLES}/qidpidtriples.train.full.tsv.gz "
      ],
      "execution_count": 0,
      "outputs": [
        {
          "output_type": "stream",
          "text": [
            "mkdir: cannot create directory ‘drive/My Drive/msmarco/triples’: File exists\n",
            "--2020-05-27 19:48:53--  https://msmarco.blob.core.windows.net/msmarcoranking/qidpidtriples.train.full.tsv.gz\n",
            "Resolving msmarco.blob.core.windows.net (msmarco.blob.core.windows.net)... 40.112.152.16\n",
            "Connecting to msmarco.blob.core.windows.net (msmarco.blob.core.windows.net)|40.112.152.16|:443... connected.\n",
            "HTTP request sent, awaiting response... 200 OK\n",
            "Length: 2633557579 (2.5G) [application/octet-stream]\n",
            "Saving to: ‘drive/My Drive/msmarco/triples/qidpidtriples.train.full.tsv.gz’\n",
            "\n",
            "qidpidtriples.train 100%[===================>]   2.45G  14.1MB/s    in 2m 56s  \n",
            "\n",
            "2020-05-27 19:51:50 (14.3 MB/s) - ‘drive/My Drive/msmarco/triples/qidpidtriples.train.full.tsv.gz’ saved [2633557579/2633557579]\n",
            "\n",
            "gzip: drive/My Drive/msmarco/triples/qidpidtriples.train.full.tsv already exists; do you wish to overwrite (y or n)? y\n",
            "n\n"
          ],
          "name": "stdout"
        }
      ]
    },
    {
      "cell_type": "markdown",
      "metadata": {
        "id": "U7jYIHOGo9iu",
        "colab_type": "text"
      },
      "source": [
        "## Outras referencias\n",
        "\n",
        "- https://colab.research.google.com/drive/1NXJZ5TaBj_i_g_0KxzJ9ZMsjn310h2YQ (Colab BERT finetunning w/ doc2query)\n",
        "- https://arxiv.org/pdf/2004.04906.pdf (Dense Passage Retrieval for Open-Domain Question Answering)"
      ]
    }
  ]
}